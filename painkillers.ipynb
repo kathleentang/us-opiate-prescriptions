{
 "cells": [
  {
   "cell_type": "code",
   "execution_count": 1,
   "metadata": {
    "collapsed": false
   },
   "outputs": [],
   "source": [
    "import pandas as pd\n",
    "import numpy as np\n",
    "%matplotlib inline\n",
    "from matplotlib import pyplot as plt\n",
    "import seaborn as sns"
   ]
  },
  {
   "cell_type": "code",
   "execution_count": null,
   "metadata": {
    "collapsed": true
   },
   "outputs": [],
   "source": [
    "#what is the relationship, if any, between opioid prescribers and deaths? prescription abuse to blame? Or are people getting addicted from other means"
   ]
  },
  {
   "cell_type": "code",
   "execution_count": null,
   "metadata": {
    "collapsed": true
   },
   "outputs": [],
   "source": []
  },
  {
   "cell_type": "code",
   "execution_count": 2,
   "metadata": {
    "collapsed": false
   },
   "outputs": [],
   "source": [
    "opioids = pd.read_csv('opioids.csv')\n",
    "overdose = pd.read_csv('overdoses.csv')\n",
    "doctor = pd.read_csv('prescriber-info.csv')"
   ]
  },
  {
   "cell_type": "code",
   "execution_count": 3,
   "metadata": {
    "collapsed": false
   },
   "outputs": [
    {
     "data": {
      "text/html": [
       "<div>\n",
       "<table border=\"1\" class=\"dataframe\">\n",
       "  <thead>\n",
       "    <tr style=\"text-align: right;\">\n",
       "      <th></th>\n",
       "      <th>Drug Name</th>\n",
       "      <th>Generic Name</th>\n",
       "    </tr>\n",
       "  </thead>\n",
       "  <tbody>\n",
       "    <tr>\n",
       "      <th>0</th>\n",
       "      <td>ABSTRAL</td>\n",
       "      <td>FENTANYL CITRATE</td>\n",
       "    </tr>\n",
       "    <tr>\n",
       "      <th>1</th>\n",
       "      <td>ACETAMINOPHEN-CODEINE</td>\n",
       "      <td>ACETAMINOPHEN WITH CODEINE</td>\n",
       "    </tr>\n",
       "  </tbody>\n",
       "</table>\n",
       "</div>"
      ],
      "text/plain": [
       "               Drug Name                Generic Name\n",
       "0                ABSTRAL            FENTANYL CITRATE\n",
       "1  ACETAMINOPHEN-CODEINE  ACETAMINOPHEN WITH CODEINE"
      ]
     },
     "execution_count": 3,
     "metadata": {},
     "output_type": "execute_result"
    }
   ],
   "source": [
    "opioids.head(2)"
   ]
  },
  {
   "cell_type": "code",
   "execution_count": 4,
   "metadata": {
    "collapsed": false
   },
   "outputs": [
    {
     "data": {
      "text/html": [
       "<div>\n",
       "<table border=\"1\" class=\"dataframe\">\n",
       "  <thead>\n",
       "    <tr style=\"text-align: right;\">\n",
       "      <th></th>\n",
       "      <th>State</th>\n",
       "      <th>Population</th>\n",
       "      <th>Deaths</th>\n",
       "      <th>Abbrev</th>\n",
       "    </tr>\n",
       "  </thead>\n",
       "  <tbody>\n",
       "    <tr>\n",
       "      <th>0</th>\n",
       "      <td>Alabama</td>\n",
       "      <td>4,833,722</td>\n",
       "      <td>723</td>\n",
       "      <td>AL</td>\n",
       "    </tr>\n",
       "    <tr>\n",
       "      <th>1</th>\n",
       "      <td>Alaska</td>\n",
       "      <td>735,132</td>\n",
       "      <td>124</td>\n",
       "      <td>AK</td>\n",
       "    </tr>\n",
       "  </tbody>\n",
       "</table>\n",
       "</div>"
      ],
      "text/plain": [
       "     State Population Deaths Abbrev\n",
       "0  Alabama  4,833,722    723     AL\n",
       "1   Alaska    735,132    124     AK"
      ]
     },
     "execution_count": 4,
     "metadata": {},
     "output_type": "execute_result"
    }
   ],
   "source": [
    "overdose.head(2)"
   ]
  },
  {
   "cell_type": "code",
   "execution_count": 5,
   "metadata": {
    "collapsed": false
   },
   "outputs": [],
   "source": [
    "def float_converter(x):\n",
    "    x = x.replace(\",\",\"\")\n",
    "    x = float(x)\n",
    "    return x"
   ]
  },
  {
   "cell_type": "code",
   "execution_count": 6,
   "metadata": {
    "collapsed": false
   },
   "outputs": [],
   "source": [
    "overdose[\"Population\"] = overdose['Population'].apply(float_converter)"
   ]
  },
  {
   "cell_type": "code",
   "execution_count": 7,
   "metadata": {
    "collapsed": true
   },
   "outputs": [],
   "source": [
    "overdose[\"Deaths\"] = overdose[\"Deaths\"].apply(float_converter)"
   ]
  },
  {
   "cell_type": "code",
   "execution_count": 8,
   "metadata": {
    "collapsed": false
   },
   "outputs": [
    {
     "data": {
      "text/html": [
       "<div>\n",
       "<table border=\"1\" class=\"dataframe\">\n",
       "  <thead>\n",
       "    <tr style=\"text-align: right;\">\n",
       "      <th></th>\n",
       "      <th>State</th>\n",
       "      <th>Population</th>\n",
       "      <th>Deaths</th>\n",
       "      <th>Abbrev</th>\n",
       "    </tr>\n",
       "  </thead>\n",
       "  <tbody>\n",
       "    <tr>\n",
       "      <th>0</th>\n",
       "      <td>Alabama</td>\n",
       "      <td>4833722.0</td>\n",
       "      <td>723.0</td>\n",
       "      <td>AL</td>\n",
       "    </tr>\n",
       "    <tr>\n",
       "      <th>1</th>\n",
       "      <td>Alaska</td>\n",
       "      <td>735132.0</td>\n",
       "      <td>124.0</td>\n",
       "      <td>AK</td>\n",
       "    </tr>\n",
       "    <tr>\n",
       "      <th>2</th>\n",
       "      <td>Arizona</td>\n",
       "      <td>6626624.0</td>\n",
       "      <td>1211.0</td>\n",
       "      <td>AZ</td>\n",
       "    </tr>\n",
       "    <tr>\n",
       "      <th>3</th>\n",
       "      <td>Arkansas</td>\n",
       "      <td>2959373.0</td>\n",
       "      <td>356.0</td>\n",
       "      <td>AR</td>\n",
       "    </tr>\n",
       "    <tr>\n",
       "      <th>4</th>\n",
       "      <td>California</td>\n",
       "      <td>38332521.0</td>\n",
       "      <td>4521.0</td>\n",
       "      <td>CA</td>\n",
       "    </tr>\n",
       "  </tbody>\n",
       "</table>\n",
       "</div>"
      ],
      "text/plain": [
       "        State  Population  Deaths Abbrev\n",
       "0     Alabama   4833722.0   723.0     AL\n",
       "1      Alaska    735132.0   124.0     AK\n",
       "2     Arizona   6626624.0  1211.0     AZ\n",
       "3    Arkansas   2959373.0   356.0     AR\n",
       "4  California  38332521.0  4521.0     CA"
      ]
     },
     "execution_count": 8,
     "metadata": {},
     "output_type": "execute_result"
    }
   ],
   "source": [
    "overdose.head()"
   ]
  },
  {
   "cell_type": "code",
   "execution_count": 9,
   "metadata": {
    "collapsed": true
   },
   "outputs": [],
   "source": [
    "overdose['Ratio'] = overdose[\"Deaths\"]/overdose[\"Population\"]"
   ]
  },
  {
   "cell_type": "code",
   "execution_count": 19,
   "metadata": {
    "collapsed": false
   },
   "outputs": [
    {
     "data": {
      "text/plain": [
       "(array([  4.,   5.,  14.,   7.,  10.,   4.,   4.,   1.,   0.,   1.]),\n",
       " array([  5.94421013e-05,   8.73111171e-05,   1.15180133e-04,\n",
       "          1.43049149e-04,   1.70918164e-04,   1.98787180e-04,\n",
       "          2.26656196e-04,   2.54525212e-04,   2.82394227e-04,\n",
       "          3.10263243e-04,   3.38132259e-04]),\n",
       " <a list of 10 Patch objects>)"
      ]
     },
     "execution_count": 19,
     "metadata": {},
     "output_type": "execute_result"
    },
    {
     "data": {
      "image/png": "[encoded data removed]",
      "text/plain": [
       "<matplotlib.figure.Figure at 0x117ab89d0>"
      ]
     },
     "metadata": {},
     "output_type": "display_data"
    }
   ],
   "source": [
    "plt.hist(overdose[\"Ratio\"])"
   ]
  },
  {
   "cell_type": "code",
   "execution_count": 11,
   "metadata": {
    "collapsed": false
   },
   "outputs": [
    {
     "data": {
      "text/html": [
       "<div>\n",
       "<table border=\"1\" class=\"dataframe\">\n",
       "  <thead>\n",
       "    <tr style=\"text-align: right;\">\n",
       "      <th></th>\n",
       "      <th>State</th>\n",
       "      <th>Population</th>\n",
       "      <th>Deaths</th>\n",
       "      <th>Abbrev</th>\n",
       "      <th>Ratio</th>\n",
       "    </tr>\n",
       "  </thead>\n",
       "  <tbody>\n",
       "    <tr>\n",
       "      <th>47</th>\n",
       "      <td>West Virginia</td>\n",
       "      <td>1854304.0</td>\n",
       "      <td>627.0</td>\n",
       "      <td>WV</td>\n",
       "      <td>0.000338</td>\n",
       "    </tr>\n",
       "  </tbody>\n",
       "</table>\n",
       "</div>"
      ],
      "text/plain": [
       "            State  Population  Deaths Abbrev     Ratio\n",
       "47  West Virginia   1854304.0   627.0     WV  0.000338"
      ]
     },
     "execution_count": 11,
     "metadata": {},
     "output_type": "execute_result"
    }
   ],
   "source": [
    "overdose[overdose[\"Ratio\"] == overdose[\"Ratio\"].max()]"
   ]
  },
  {
   "cell_type": "code",
   "execution_count": 12,
   "metadata": {
    "collapsed": false
   },
   "outputs": [
    {
     "data": {
      "text/html": [
       "<div>\n",
       "<table border=\"1\" class=\"dataframe\">\n",
       "  <thead>\n",
       "    <tr style=\"text-align: right;\">\n",
       "      <th></th>\n",
       "      <th>State</th>\n",
       "      <th>Population</th>\n",
       "      <th>Deaths</th>\n",
       "      <th>Abbrev</th>\n",
       "      <th>Ratio</th>\n",
       "    </tr>\n",
       "  </thead>\n",
       "  <tbody>\n",
       "    <tr>\n",
       "      <th>33</th>\n",
       "      <td>North Dakota</td>\n",
       "      <td>723393.0</td>\n",
       "      <td>43.0</td>\n",
       "      <td>ND</td>\n",
       "      <td>0.000059</td>\n",
       "    </tr>\n",
       "  </tbody>\n",
       "</table>\n",
       "</div>"
      ],
      "text/plain": [
       "           State  Population  Deaths Abbrev     Ratio\n",
       "33  North Dakota    723393.0    43.0     ND  0.000059"
      ]
     },
     "execution_count": 12,
     "metadata": {},
     "output_type": "execute_result"
    }
   ],
   "source": [
    "overdose[overdose[\"Ratio\"] == overdose[\"Ratio\"].min()]"
   ]
  },
  {
   "cell_type": "code",
   "execution_count": 15,
   "metadata": {
    "collapsed": false
   },
   "outputs": [
    {
     "data": {
      "text/html": [
       "<div>\n",
       "<table border=\"1\" class=\"dataframe\">\n",
       "  <thead>\n",
       "    <tr style=\"text-align: right;\">\n",
       "      <th></th>\n",
       "      <th>Ratio</th>\n",
       "    </tr>\n",
       "  </thead>\n",
       "  <tbody>\n",
       "    <tr>\n",
       "      <th>count</th>\n",
       "      <td>50.000000</td>\n",
       "    </tr>\n",
       "    <tr>\n",
       "      <th>mean</th>\n",
       "      <td>0.000159</td>\n",
       "    </tr>\n",
       "    <tr>\n",
       "      <th>std</th>\n",
       "      <td>0.000055</td>\n",
       "    </tr>\n",
       "    <tr>\n",
       "      <th>min</th>\n",
       "      <td>0.000059</td>\n",
       "    </tr>\n",
       "    <tr>\n",
       "      <th>25%</th>\n",
       "      <td>0.000120</td>\n",
       "    </tr>\n",
       "    <tr>\n",
       "      <th>50%</th>\n",
       "      <td>0.000149</td>\n",
       "    </tr>\n",
       "    <tr>\n",
       "      <th>75%</th>\n",
       "      <td>0.000191</td>\n",
       "    </tr>\n",
       "    <tr>\n",
       "      <th>max</th>\n",
       "      <td>0.000338</td>\n",
       "    </tr>\n",
       "  </tbody>\n",
       "</table>\n",
       "</div>"
      ],
      "text/plain": [
       "           Ratio\n",
       "count  50.000000\n",
       "mean    0.000159\n",
       "std     0.000055\n",
       "min     0.000059\n",
       "25%     0.000120\n",
       "50%     0.000149\n",
       "75%     0.000191\n",
       "max     0.000338"
      ]
     },
     "execution_count": 15,
     "metadata": {},
     "output_type": "execute_result"
    }
   ],
   "source": [
    "pd.DataFrame(overdose[\"Ratio\"].describe())"
   ]
  },
  {
   "cell_type": "code",
   "execution_count": 13,
   "metadata": {
    "collapsed": false
   },
   "outputs": [
    {
     "data": {
      "text/plain": [
       "0.00015943673212099403"
      ]
     },
     "execution_count": 13,
     "metadata": {},
     "output_type": "execute_result"
    }
   ],
   "source": [
    "overdose[\"Ratio\"].sum() / len(overdose[\"Ratio\"])"
   ]
  },
  {
   "cell_type": "code",
   "execution_count": 90,
   "metadata": {
    "collapsed": false
   },
   "outputs": [
    {
     "data": {
      "text/html": [
       "<div>\n",
       "<table border=\"1\" class=\"dataframe\">\n",
       "  <thead>\n",
       "    <tr style=\"text-align: right;\">\n",
       "      <th></th>\n",
       "      <th>State</th>\n",
       "      <th>Population</th>\n",
       "      <th>Deaths</th>\n",
       "      <th>Abbrev</th>\n",
       "      <th>Ratio</th>\n",
       "    </tr>\n",
       "  </thead>\n",
       "  <tbody>\n",
       "    <tr>\n",
       "      <th>0</th>\n",
       "      <td>Alabama</td>\n",
       "      <td>4833722.0</td>\n",
       "      <td>723.0</td>\n",
       "      <td>AL</td>\n",
       "      <td>0.000150</td>\n",
       "    </tr>\n",
       "    <tr>\n",
       "      <th>3</th>\n",
       "      <td>Arkansas</td>\n",
       "      <td>2959373.0</td>\n",
       "      <td>356.0</td>\n",
       "      <td>AR</td>\n",
       "      <td>0.000120</td>\n",
       "    </tr>\n",
       "    <tr>\n",
       "      <th>4</th>\n",
       "      <td>California</td>\n",
       "      <td>38332521.0</td>\n",
       "      <td>4521.0</td>\n",
       "      <td>CA</td>\n",
       "      <td>0.000118</td>\n",
       "    </tr>\n",
       "    <tr>\n",
       "      <th>8</th>\n",
       "      <td>Florida</td>\n",
       "      <td>19552860.0</td>\n",
       "      <td>2634.0</td>\n",
       "      <td>FL</td>\n",
       "      <td>0.000135</td>\n",
       "    </tr>\n",
       "    <tr>\n",
       "      <th>9</th>\n",
       "      <td>Georgia</td>\n",
       "      <td>9992167.0</td>\n",
       "      <td>1206.0</td>\n",
       "      <td>GA</td>\n",
       "      <td>0.000121</td>\n",
       "    </tr>\n",
       "    <tr>\n",
       "      <th>10</th>\n",
       "      <td>Hawaii</td>\n",
       "      <td>1404054.0</td>\n",
       "      <td>157.0</td>\n",
       "      <td>HI</td>\n",
       "      <td>0.000112</td>\n",
       "    </tr>\n",
       "    <tr>\n",
       "      <th>11</th>\n",
       "      <td>Idaho</td>\n",
       "      <td>1612136.0</td>\n",
       "      <td>212.0</td>\n",
       "      <td>ID</td>\n",
       "      <td>0.000132</td>\n",
       "    </tr>\n",
       "    <tr>\n",
       "      <th>12</th>\n",
       "      <td>Illinois</td>\n",
       "      <td>12882135.0</td>\n",
       "      <td>1705.0</td>\n",
       "      <td>IL</td>\n",
       "      <td>0.000132</td>\n",
       "    </tr>\n",
       "    <tr>\n",
       "      <th>14</th>\n",
       "      <td>Iowa</td>\n",
       "      <td>3090416.0</td>\n",
       "      <td>264.0</td>\n",
       "      <td>IA</td>\n",
       "      <td>0.000085</td>\n",
       "    </tr>\n",
       "    <tr>\n",
       "      <th>15</th>\n",
       "      <td>Kansas</td>\n",
       "      <td>2893957.0</td>\n",
       "      <td>332.0</td>\n",
       "      <td>KS</td>\n",
       "      <td>0.000115</td>\n",
       "    </tr>\n",
       "    <tr>\n",
       "      <th>22</th>\n",
       "      <td>Minnesota</td>\n",
       "      <td>5420380.0</td>\n",
       "      <td>517.0</td>\n",
       "      <td>MN</td>\n",
       "      <td>0.000095</td>\n",
       "    </tr>\n",
       "    <tr>\n",
       "      <th>23</th>\n",
       "      <td>Mississippi</td>\n",
       "      <td>2991207.0</td>\n",
       "      <td>336.0</td>\n",
       "      <td>MS</td>\n",
       "      <td>0.000112</td>\n",
       "    </tr>\n",
       "    <tr>\n",
       "      <th>25</th>\n",
       "      <td>Montana</td>\n",
       "      <td>1015165.0</td>\n",
       "      <td>125.0</td>\n",
       "      <td>MT</td>\n",
       "      <td>0.000123</td>\n",
       "    </tr>\n",
       "    <tr>\n",
       "      <th>26</th>\n",
       "      <td>Nebraska</td>\n",
       "      <td>1868516.0</td>\n",
       "      <td>125.0</td>\n",
       "      <td>NE</td>\n",
       "      <td>0.000067</td>\n",
       "    </tr>\n",
       "    <tr>\n",
       "      <th>29</th>\n",
       "      <td>New Jersey</td>\n",
       "      <td>8899339.0</td>\n",
       "      <td>1253.0</td>\n",
       "      <td>NJ</td>\n",
       "      <td>0.000141</td>\n",
       "    </tr>\n",
       "    <tr>\n",
       "      <th>31</th>\n",
       "      <td>New York</td>\n",
       "      <td>19651127.0</td>\n",
       "      <td>2300.0</td>\n",
       "      <td>NY</td>\n",
       "      <td>0.000117</td>\n",
       "    </tr>\n",
       "    <tr>\n",
       "      <th>32</th>\n",
       "      <td>North Carolina</td>\n",
       "      <td>9848060.0</td>\n",
       "      <td>1358.0</td>\n",
       "      <td>NC</td>\n",
       "      <td>0.000138</td>\n",
       "    </tr>\n",
       "    <tr>\n",
       "      <th>33</th>\n",
       "      <td>North Dakota</td>\n",
       "      <td>723393.0</td>\n",
       "      <td>43.0</td>\n",
       "      <td>ND</td>\n",
       "      <td>0.000059</td>\n",
       "    </tr>\n",
       "    <tr>\n",
       "      <th>36</th>\n",
       "      <td>Oregon</td>\n",
       "      <td>3930065.0</td>\n",
       "      <td>522.0</td>\n",
       "      <td>OR</td>\n",
       "      <td>0.000133</td>\n",
       "    </tr>\n",
       "    <tr>\n",
       "      <th>39</th>\n",
       "      <td>South Carolina</td>\n",
       "      <td>4774839.0</td>\n",
       "      <td>701.0</td>\n",
       "      <td>SC</td>\n",
       "      <td>0.000147</td>\n",
       "    </tr>\n",
       "    <tr>\n",
       "      <th>40</th>\n",
       "      <td>South Dakota</td>\n",
       "      <td>844877.0</td>\n",
       "      <td>63.0</td>\n",
       "      <td>SD</td>\n",
       "      <td>0.000075</td>\n",
       "    </tr>\n",
       "    <tr>\n",
       "      <th>42</th>\n",
       "      <td>Texas</td>\n",
       "      <td>26448193.0</td>\n",
       "      <td>2601.0</td>\n",
       "      <td>TX</td>\n",
       "      <td>0.000098</td>\n",
       "    </tr>\n",
       "    <tr>\n",
       "      <th>44</th>\n",
       "      <td>Vermont</td>\n",
       "      <td>626630.0</td>\n",
       "      <td>83.0</td>\n",
       "      <td>VT</td>\n",
       "      <td>0.000132</td>\n",
       "    </tr>\n",
       "    <tr>\n",
       "      <th>45</th>\n",
       "      <td>Virginia</td>\n",
       "      <td>8260405.0</td>\n",
       "      <td>980.0</td>\n",
       "      <td>VA</td>\n",
       "      <td>0.000119</td>\n",
       "    </tr>\n",
       "    <tr>\n",
       "      <th>46</th>\n",
       "      <td>Washington</td>\n",
       "      <td>6971406.0</td>\n",
       "      <td>979.0</td>\n",
       "      <td>WA</td>\n",
       "      <td>0.000140</td>\n",
       "    </tr>\n",
       "    <tr>\n",
       "      <th>48</th>\n",
       "      <td>Wisconsin</td>\n",
       "      <td>5742713.0</td>\n",
       "      <td>853.0</td>\n",
       "      <td>WI</td>\n",
       "      <td>0.000149</td>\n",
       "    </tr>\n",
       "  </tbody>\n",
       "</table>\n",
       "</div>"
      ],
      "text/plain": [
       "             State  Population  Deaths Abbrev     Ratio\n",
       "0          Alabama   4833722.0   723.0     AL  0.000150\n",
       "3         Arkansas   2959373.0   356.0     AR  0.000120\n",
       "4       California  38332521.0  4521.0     CA  0.000118\n",
       "8          Florida  19552860.0  2634.0     FL  0.000135\n",
       "9          Georgia   9992167.0  1206.0     GA  0.000121\n",
       "10          Hawaii   1404054.0   157.0     HI  0.000112\n",
       "11           Idaho   1612136.0   212.0     ID  0.000132\n",
       "12        Illinois  12882135.0  1705.0     IL  0.000132\n",
       "14            Iowa   3090416.0   264.0     IA  0.000085\n",
       "15          Kansas   2893957.0   332.0     KS  0.000115\n",
       "22       Minnesota   5420380.0   517.0     MN  0.000095\n",
       "23     Mississippi   2991207.0   336.0     MS  0.000112\n",
       "25         Montana   1015165.0   125.0     MT  0.000123\n",
       "26        Nebraska   1868516.0   125.0     NE  0.000067\n",
       "29      New Jersey   8899339.0  1253.0     NJ  0.000141\n",
       "31        New York  19651127.0  2300.0     NY  0.000117\n",
       "32  North Carolina   9848060.0  1358.0     NC  0.000138\n",
       "33    North Dakota    723393.0    43.0     ND  0.000059\n",
       "36          Oregon   3930065.0   522.0     OR  0.000133\n",
       "39  South Carolina   4774839.0   701.0     SC  0.000147\n",
       "40    South Dakota    844877.0    63.0     SD  0.000075\n",
       "42           Texas  26448193.0  2601.0     TX  0.000098\n",
       "44         Vermont    626630.0    83.0     VT  0.000132\n",
       "45        Virginia   8260405.0   980.0     VA  0.000119\n",
       "46      Washington   6971406.0   979.0     WA  0.000140\n",
       "48       Wisconsin   5742713.0   853.0     WI  0.000149"
      ]
     },
     "execution_count": 90,
     "metadata": {},
     "output_type": "execute_result"
    }
   ],
   "source": [
    "overdose[overdose[\"Ratio\"] < 0.00015943673212099403]"
   ]
  },
  {
   "cell_type": "code",
   "execution_count": 142,
   "metadata": {
    "collapsed": false
   },
   "outputs": [
    {
     "data": {
      "text/plain": [
       "count    50.000000\n",
       "mean      0.000159\n",
       "std       0.000055\n",
       "min       0.000059\n",
       "25%       0.000120\n",
       "50%       0.000149\n",
       "75%       0.000191\n",
       "max       0.000338\n",
       "Name: Ratio, dtype: float64"
      ]
     },
     "execution_count": 142,
     "metadata": {},
     "output_type": "execute_result"
    }
   ],
   "source": [
    "overdose['Ratio'].describe()"
   ]
  },
  {
   "cell_type": "code",
   "execution_count": 143,
   "metadata": {
    "collapsed": false
   },
   "outputs": [
    {
     "data": {
      "text/html": [
       "<div>\n",
       "<table border=\"1\" class=\"dataframe\">\n",
       "  <thead>\n",
       "    <tr style=\"text-align: right;\">\n",
       "      <th></th>\n",
       "      <th>State</th>\n",
       "      <th>Population</th>\n",
       "      <th>Deaths</th>\n",
       "      <th>Abbrev</th>\n",
       "      <th>Ratio</th>\n",
       "    </tr>\n",
       "  </thead>\n",
       "  <tbody>\n",
       "    <tr>\n",
       "      <th>7</th>\n",
       "      <td>Delaware</td>\n",
       "      <td>925749.0</td>\n",
       "      <td>189.0</td>\n",
       "      <td>DE</td>\n",
       "      <td>0.000204</td>\n",
       "    </tr>\n",
       "    <tr>\n",
       "      <th>16</th>\n",
       "      <td>Kentucky</td>\n",
       "      <td>4395295.0</td>\n",
       "      <td>1077.0</td>\n",
       "      <td>KY</td>\n",
       "      <td>0.000245</td>\n",
       "    </tr>\n",
       "    <tr>\n",
       "      <th>20</th>\n",
       "      <td>Massachusetts</td>\n",
       "      <td>6692824.0</td>\n",
       "      <td>1289.0</td>\n",
       "      <td>MA</td>\n",
       "      <td>0.000193</td>\n",
       "    </tr>\n",
       "    <tr>\n",
       "      <th>27</th>\n",
       "      <td>Nevada</td>\n",
       "      <td>2790136.0</td>\n",
       "      <td>545.0</td>\n",
       "      <td>NV</td>\n",
       "      <td>0.000195</td>\n",
       "    </tr>\n",
       "    <tr>\n",
       "      <th>28</th>\n",
       "      <td>New Hampshire</td>\n",
       "      <td>1323459.0</td>\n",
       "      <td>334.0</td>\n",
       "      <td>NH</td>\n",
       "      <td>0.000252</td>\n",
       "    </tr>\n",
       "    <tr>\n",
       "      <th>30</th>\n",
       "      <td>New Mexico</td>\n",
       "      <td>2085287.0</td>\n",
       "      <td>547.0</td>\n",
       "      <td>NM</td>\n",
       "      <td>0.000262</td>\n",
       "    </tr>\n",
       "    <tr>\n",
       "      <th>34</th>\n",
       "      <td>Ohio</td>\n",
       "      <td>11570808.0</td>\n",
       "      <td>2744.0</td>\n",
       "      <td>OH</td>\n",
       "      <td>0.000237</td>\n",
       "    </tr>\n",
       "    <tr>\n",
       "      <th>35</th>\n",
       "      <td>Oklahoma</td>\n",
       "      <td>3850568.0</td>\n",
       "      <td>777.0</td>\n",
       "      <td>OK</td>\n",
       "      <td>0.000202</td>\n",
       "    </tr>\n",
       "    <tr>\n",
       "      <th>37</th>\n",
       "      <td>Pennsylvania</td>\n",
       "      <td>12773801.0</td>\n",
       "      <td>2732.0</td>\n",
       "      <td>PA</td>\n",
       "      <td>0.000214</td>\n",
       "    </tr>\n",
       "    <tr>\n",
       "      <th>38</th>\n",
       "      <td>Rhode Island</td>\n",
       "      <td>1051511.0</td>\n",
       "      <td>247.0</td>\n",
       "      <td>RI</td>\n",
       "      <td>0.000235</td>\n",
       "    </tr>\n",
       "    <tr>\n",
       "      <th>41</th>\n",
       "      <td>Tennessee</td>\n",
       "      <td>6495978.0</td>\n",
       "      <td>1269.0</td>\n",
       "      <td>TN</td>\n",
       "      <td>0.000195</td>\n",
       "    </tr>\n",
       "    <tr>\n",
       "      <th>43</th>\n",
       "      <td>Utah</td>\n",
       "      <td>2900872.0</td>\n",
       "      <td>603.0</td>\n",
       "      <td>UT</td>\n",
       "      <td>0.000208</td>\n",
       "    </tr>\n",
       "    <tr>\n",
       "      <th>47</th>\n",
       "      <td>West Virginia</td>\n",
       "      <td>1854304.0</td>\n",
       "      <td>627.0</td>\n",
       "      <td>WV</td>\n",
       "      <td>0.000338</td>\n",
       "    </tr>\n",
       "  </tbody>\n",
       "</table>\n",
       "</div>"
      ],
      "text/plain": [
       "            State  Population  Deaths Abbrev     Ratio\n",
       "7        Delaware    925749.0   189.0     DE  0.000204\n",
       "16       Kentucky   4395295.0  1077.0     KY  0.000245\n",
       "20  Massachusetts   6692824.0  1289.0     MA  0.000193\n",
       "27         Nevada   2790136.0   545.0     NV  0.000195\n",
       "28  New Hampshire   1323459.0   334.0     NH  0.000252\n",
       "30     New Mexico   2085287.0   547.0     NM  0.000262\n",
       "34           Ohio  11570808.0  2744.0     OH  0.000237\n",
       "35       Oklahoma   3850568.0   777.0     OK  0.000202\n",
       "37   Pennsylvania  12773801.0  2732.0     PA  0.000214\n",
       "38   Rhode Island   1051511.0   247.0     RI  0.000235\n",
       "41      Tennessee   6495978.0  1269.0     TN  0.000195\n",
       "43           Utah   2900872.0   603.0     UT  0.000208\n",
       "47  West Virginia   1854304.0   627.0     WV  0.000338"
      ]
     },
     "execution_count": 143,
     "metadata": {},
     "output_type": "execute_result"
    }
   ],
   "source": [
    "overdose[overdose[\"Ratio\"] > 0.000191]  #states above 75th percentile for overdose deaths "
   ]
  },
  {
   "cell_type": "code",
   "execution_count": 20,
   "metadata": {
    "collapsed": false
   },
   "outputs": [
    {
     "data": {
      "text/html": [
       "<div>\n",
       "<table border=\"1\" class=\"dataframe\">\n",
       "  <thead>\n",
       "    <tr style=\"text-align: right;\">\n",
       "      <th></th>\n",
       "      <th>NPI</th>\n",
       "      <th>Gender</th>\n",
       "      <th>State</th>\n",
       "      <th>Credentials</th>\n",
       "      <th>Specialty</th>\n",
       "      <th>ABILIFY</th>\n",
       "      <th>ACETAMINOPHEN.CODEINE</th>\n",
       "      <th>ACYCLOVIR</th>\n",
       "      <th>ADVAIR.DISKUS</th>\n",
       "      <th>AGGRENOX</th>\n",
       "      <th>...</th>\n",
       "      <th>VERAPAMIL.ER</th>\n",
       "      <th>VESICARE</th>\n",
       "      <th>VOLTAREN</th>\n",
       "      <th>VYTORIN</th>\n",
       "      <th>WARFARIN.SODIUM</th>\n",
       "      <th>XARELTO</th>\n",
       "      <th>ZETIA</th>\n",
       "      <th>ZIPRASIDONE.HCL</th>\n",
       "      <th>ZOLPIDEM.TARTRATE</th>\n",
       "      <th>Opioid.Prescriber</th>\n",
       "    </tr>\n",
       "  </thead>\n",
       "  <tbody>\n",
       "    <tr>\n",
       "      <th>0</th>\n",
       "      <td>1710982582</td>\n",
       "      <td>M</td>\n",
       "      <td>TX</td>\n",
       "      <td>DDS</td>\n",
       "      <td>Dentist</td>\n",
       "      <td>0</td>\n",
       "      <td>0</td>\n",
       "      <td>0</td>\n",
       "      <td>0</td>\n",
       "      <td>0</td>\n",
       "      <td>...</td>\n",
       "      <td>0</td>\n",
       "      <td>0</td>\n",
       "      <td>0</td>\n",
       "      <td>0</td>\n",
       "      <td>0</td>\n",
       "      <td>0</td>\n",
       "      <td>0</td>\n",
       "      <td>0</td>\n",
       "      <td>0</td>\n",
       "      <td>1</td>\n",
       "    </tr>\n",
       "    <tr>\n",
       "      <th>1</th>\n",
       "      <td>1245278100</td>\n",
       "      <td>F</td>\n",
       "      <td>AL</td>\n",
       "      <td>MD</td>\n",
       "      <td>General Surgery</td>\n",
       "      <td>0</td>\n",
       "      <td>0</td>\n",
       "      <td>0</td>\n",
       "      <td>0</td>\n",
       "      <td>0</td>\n",
       "      <td>...</td>\n",
       "      <td>0</td>\n",
       "      <td>0</td>\n",
       "      <td>0</td>\n",
       "      <td>0</td>\n",
       "      <td>0</td>\n",
       "      <td>0</td>\n",
       "      <td>0</td>\n",
       "      <td>0</td>\n",
       "      <td>35</td>\n",
       "      <td>1</td>\n",
       "    </tr>\n",
       "  </tbody>\n",
       "</table>\n",
       "<p>2 rows × 256 columns</p>\n",
       "</div>"
      ],
      "text/plain": [
       "          NPI Gender State Credentials        Specialty  ABILIFY  \\\n",
       "0  1710982582      M    TX         DDS          Dentist        0   \n",
       "1  1245278100      F    AL          MD  General Surgery        0   \n",
       "\n",
       "   ACETAMINOPHEN.CODEINE  ACYCLOVIR  ADVAIR.DISKUS  AGGRENOX  \\\n",
       "0                      0          0              0         0   \n",
       "1                      0          0              0         0   \n",
       "\n",
       "         ...          VERAPAMIL.ER  VESICARE  VOLTAREN  VYTORIN  \\\n",
       "0        ...                     0         0         0        0   \n",
       "1        ...                     0         0         0        0   \n",
       "\n",
       "   WARFARIN.SODIUM  XARELTO  ZETIA  ZIPRASIDONE.HCL  ZOLPIDEM.TARTRATE  \\\n",
       "0                0        0      0                0                  0   \n",
       "1                0        0      0                0                 35   \n",
       "\n",
       "   Opioid.Prescriber  \n",
       "0                  1  \n",
       "1                  1  \n",
       "\n",
       "[2 rows x 256 columns]"
      ]
     },
     "execution_count": 20,
     "metadata": {},
     "output_type": "execute_result"
    }
   ],
   "source": [
    "doctor.head(2)"
   ]
  },
  {
   "cell_type": "code",
   "execution_count": 21,
   "metadata": {
    "collapsed": false
   },
   "outputs": [
    {
     "data": {
      "text/plain": [
       "256"
      ]
     },
     "execution_count": 21,
     "metadata": {},
     "output_type": "execute_result"
    }
   ],
   "source": [
    "len(doctor.columns.tolist())"
   ]
  },
  {
   "cell_type": "code",
   "execution_count": 22,
   "metadata": {
    "collapsed": false
   },
   "outputs": [],
   "source": [
    "cols_to_sum = doctor.ix[:,5:255].columns.tolist()"
   ]
  },
  {
   "cell_type": "code",
   "execution_count": 23,
   "metadata": {
    "collapsed": false
   },
   "outputs": [
    {
     "data": {
      "text/plain": [
       "25"
      ]
     },
     "execution_count": 23,
     "metadata": {},
     "output_type": "execute_result"
    }
   ],
   "source": [
    "sum(doctor.ix[5,cols_to_sum])"
   ]
  },
  {
   "cell_type": "code",
   "execution_count": 24,
   "metadata": {
    "collapsed": false
   },
   "outputs": [],
   "source": [
    "times_prescribed = []\n",
    "\n",
    "for x in cols_to_sum:\n",
    "    times_prescribed.append(sum(doctor[x]))\n"
   ]
  },
  {
   "cell_type": "code",
   "execution_count": 27,
   "metadata": {
    "collapsed": false
   },
   "outputs": [],
   "source": [
    "drug_counts = zip(cols_to_sum,times_prescribed)"
   ]
  },
  {
   "cell_type": "code",
   "execution_count": 30,
   "metadata": {
    "collapsed": false
   },
   "outputs": [
    {
     "data": {
      "text/plain": [
       "138305"
      ]
     },
     "execution_count": 30,
     "metadata": {},
     "output_type": "execute_result"
    }
   ],
   "source": [
    "drug_counts[1].sum() / len(drug_counts)"
   ]
  },
  {
   "cell_type": "code",
   "execution_count": 29,
   "metadata": {
    "collapsed": true
   },
   "outputs": [],
   "source": [
    "drug_counts = pd.DataFrame(drug_counts)"
   ]
  },
  {
   "cell_type": "code",
   "execution_count": 79,
   "metadata": {
    "collapsed": false
   },
   "outputs": [
    {
     "name": "stderr",
     "output_type": "stream",
     "text": [
      "/Users/kathleen/anaconda/lib/python2.7/site-packages/ipykernel/__main__.py:1: FutureWarning: sort(....) is deprecated, use sort_index(.....)\n",
      "  if __name__ == '__main__':\n"
     ]
    },
    {
     "data": {
      "text/html": [
       "<div>\n",
       "<table border=\"1\" class=\"dataframe\">\n",
       "  <thead>\n",
       "    <tr style=\"text-align: right;\">\n",
       "      <th></th>\n",
       "      <th>0</th>\n",
       "      <th>1</th>\n",
       "    </tr>\n",
       "  </thead>\n",
       "  <tbody>\n",
       "    <tr>\n",
       "      <th>10</th>\n",
       "      <td>AMLODIPINE.BESYLATE</td>\n",
       "      <td>1107865</td>\n",
       "    </tr>\n",
       "    <tr>\n",
       "      <th>16</th>\n",
       "      <td>ATORVASTATIN.CALCIUM</td>\n",
       "      <td>988910</td>\n",
       "    </tr>\n",
       "    <tr>\n",
       "      <th>88</th>\n",
       "      <td>FUROSEMIDE</td>\n",
       "      <td>828161</td>\n",
       "    </tr>\n",
       "    <tr>\n",
       "      <th>89</th>\n",
       "      <td>GABAPENTIN</td>\n",
       "      <td>654491</td>\n",
       "    </tr>\n",
       "    <tr>\n",
       "      <th>100</th>\n",
       "      <td>HYDROCODONE.ACETAMINOPHEN</td>\n",
       "      <td>958082</td>\n",
       "    </tr>\n",
       "    <tr>\n",
       "      <th>128</th>\n",
       "      <td>LEVOTHYROXINE.SODIUM</td>\n",
       "      <td>1144724</td>\n",
       "    </tr>\n",
       "    <tr>\n",
       "      <th>130</th>\n",
       "      <td>LISINOPRIL</td>\n",
       "      <td>1176243</td>\n",
       "    </tr>\n",
       "    <tr>\n",
       "      <th>142</th>\n",
       "      <td>METFORMIN.HCL</td>\n",
       "      <td>715162</td>\n",
       "    </tr>\n",
       "    <tr>\n",
       "      <th>151</th>\n",
       "      <td>METOPROLOL.TARTRATE</td>\n",
       "      <td>657013</td>\n",
       "    </tr>\n",
       "    <tr>\n",
       "      <th>174</th>\n",
       "      <td>OMEPRAZOLE</td>\n",
       "      <td>1012238</td>\n",
       "    </tr>\n",
       "    <tr>\n",
       "      <th>212</th>\n",
       "      <td>SIMVASTATIN</td>\n",
       "      <td>1032511</td>\n",
       "    </tr>\n",
       "  </tbody>\n",
       "</table>\n",
       "</div>"
      ],
      "text/plain": [
       "                             0        1\n",
       "10         AMLODIPINE.BESYLATE  1107865\n",
       "16        ATORVASTATIN.CALCIUM   988910\n",
       "88                  FUROSEMIDE   828161\n",
       "89                  GABAPENTIN   654491\n",
       "100  HYDROCODONE.ACETAMINOPHEN   958082\n",
       "128       LEVOTHYROXINE.SODIUM  1144724\n",
       "130                 LISINOPRIL  1176243\n",
       "142              METFORMIN.HCL   715162\n",
       "151        METOPROLOL.TARTRATE   657013\n",
       "174                 OMEPRAZOLE  1012238\n",
       "212                SIMVASTATIN  1032511"
      ]
     },
     "execution_count": 79,
     "metadata": {},
     "output_type": "execute_result"
    }
   ],
   "source": [
    "drug_counts[drug_counts[1] > 600000].sort()"
   ]
  },
  {
   "cell_type": "code",
   "execution_count": 32,
   "metadata": {
    "collapsed": false
   },
   "outputs": [
    {
     "data": {
      "text/plain": [
       "(array([ 180.,   36.,   11.,    8.,    4.,    2.,    1.,    1.,    4.,    3.]),\n",
       " array([   12563.,   128931.,   245299.,   361667.,   478035.,   594403.,\n",
       "          710771.,   827139.,   943507.,  1059875.,  1176243.]),\n",
       " <a list of 10 Patch objects>)"
      ]
     },
     "execution_count": 32,
     "metadata": {},
     "output_type": "execute_result"
    },
    {
     "data": {
      "image/png": "[encoded data removed]",
      "text/plain": [
       "<matplotlib.figure.Figure at 0x11b647510>"
      ]
     },
     "metadata": {},
     "output_type": "display_data"
    }
   ],
   "source": [
    "plt.hist(pd.DataFrame(drug_counts)[1])"
   ]
  },
  {
   "cell_type": "code",
   "execution_count": 33,
   "metadata": {
    "collapsed": false
   },
   "outputs": [
    {
     "data": {
      "text/plain": [
       "1"
      ]
     },
     "execution_count": 33,
     "metadata": {},
     "output_type": "execute_result"
    }
   ],
   "source": [
    "max(drug_counts)  #ZOLPIDEM.TARTRATE is the most prescribed "
   ]
  },
  {
   "cell_type": "code",
   "execution_count": 34,
   "metadata": {
    "collapsed": true
   },
   "outputs": [],
   "source": [
    "#df['e'] = df[col_list].sum(axis=1)\n",
    "doctor['total_prescribed'] = doctor[cols_to_sum].sum(axis=1)"
   ]
  },
  {
   "cell_type": "code",
   "execution_count": 36,
   "metadata": {
    "collapsed": false
   },
   "outputs": [
    {
     "data": {
      "text/plain": [
       "25000"
      ]
     },
     "execution_count": 36,
     "metadata": {},
     "output_type": "execute_result"
    }
   ],
   "source": [
    "len(doctor)"
   ]
  },
  {
   "cell_type": "code",
   "execution_count": 37,
   "metadata": {
    "collapsed": false
   },
   "outputs": [
    {
     "data": {
      "text/html": [
       "<div>\n",
       "<table border=\"1\" class=\"dataframe\">\n",
       "  <thead>\n",
       "    <tr style=\"text-align: right;\">\n",
       "      <th></th>\n",
       "      <th>NPI</th>\n",
       "      <th>Gender</th>\n",
       "      <th>State</th>\n",
       "      <th>Credentials</th>\n",
       "      <th>Specialty</th>\n",
       "      <th>ABILIFY</th>\n",
       "      <th>ACETAMINOPHEN.CODEINE</th>\n",
       "      <th>ACYCLOVIR</th>\n",
       "      <th>ADVAIR.DISKUS</th>\n",
       "      <th>AGGRENOX</th>\n",
       "      <th>...</th>\n",
       "      <th>VESICARE</th>\n",
       "      <th>VOLTAREN</th>\n",
       "      <th>VYTORIN</th>\n",
       "      <th>WARFARIN.SODIUM</th>\n",
       "      <th>XARELTO</th>\n",
       "      <th>ZETIA</th>\n",
       "      <th>ZIPRASIDONE.HCL</th>\n",
       "      <th>ZOLPIDEM.TARTRATE</th>\n",
       "      <th>Opioid.Prescriber</th>\n",
       "      <th>total_prescribed</th>\n",
       "    </tr>\n",
       "  </thead>\n",
       "  <tbody>\n",
       "    <tr>\n",
       "      <th>0</th>\n",
       "      <td>1710982582</td>\n",
       "      <td>M</td>\n",
       "      <td>TX</td>\n",
       "      <td>DDS</td>\n",
       "      <td>Dentist</td>\n",
       "      <td>0</td>\n",
       "      <td>0</td>\n",
       "      <td>0</td>\n",
       "      <td>0</td>\n",
       "      <td>0</td>\n",
       "      <td>...</td>\n",
       "      <td>0</td>\n",
       "      <td>0</td>\n",
       "      <td>0</td>\n",
       "      <td>0</td>\n",
       "      <td>0</td>\n",
       "      <td>0</td>\n",
       "      <td>0</td>\n",
       "      <td>0</td>\n",
       "      <td>1</td>\n",
       "      <td>29</td>\n",
       "    </tr>\n",
       "    <tr>\n",
       "      <th>1</th>\n",
       "      <td>1245278100</td>\n",
       "      <td>F</td>\n",
       "      <td>AL</td>\n",
       "      <td>MD</td>\n",
       "      <td>General Surgery</td>\n",
       "      <td>0</td>\n",
       "      <td>0</td>\n",
       "      <td>0</td>\n",
       "      <td>0</td>\n",
       "      <td>0</td>\n",
       "      <td>...</td>\n",
       "      <td>0</td>\n",
       "      <td>0</td>\n",
       "      <td>0</td>\n",
       "      <td>0</td>\n",
       "      <td>0</td>\n",
       "      <td>0</td>\n",
       "      <td>0</td>\n",
       "      <td>35</td>\n",
       "      <td>1</td>\n",
       "      <td>1418</td>\n",
       "    </tr>\n",
       "  </tbody>\n",
       "</table>\n",
       "<p>2 rows × 257 columns</p>\n",
       "</div>"
      ],
      "text/plain": [
       "          NPI Gender State Credentials        Specialty  ABILIFY  \\\n",
       "0  1710982582      M    TX         DDS          Dentist        0   \n",
       "1  1245278100      F    AL          MD  General Surgery        0   \n",
       "\n",
       "   ACETAMINOPHEN.CODEINE  ACYCLOVIR  ADVAIR.DISKUS  AGGRENOX  \\\n",
       "0                      0          0              0         0   \n",
       "1                      0          0              0         0   \n",
       "\n",
       "         ...         VESICARE  VOLTAREN  VYTORIN  WARFARIN.SODIUM  XARELTO  \\\n",
       "0        ...                0         0        0                0        0   \n",
       "1        ...                0         0        0                0        0   \n",
       "\n",
       "   ZETIA  ZIPRASIDONE.HCL  ZOLPIDEM.TARTRATE  Opioid.Prescriber  \\\n",
       "0      0                0                  0                  1   \n",
       "1      0                0                 35                  1   \n",
       "\n",
       "   total_prescribed  \n",
       "0                29  \n",
       "1              1418  \n",
       "\n",
       "[2 rows x 257 columns]"
      ]
     },
     "execution_count": 37,
     "metadata": {},
     "output_type": "execute_result"
    }
   ],
   "source": [
    "doctor.head(2)"
   ]
  },
  {
   "cell_type": "code",
   "execution_count": 38,
   "metadata": {
    "collapsed": false
   },
   "outputs": [
    {
     "data": {
      "text/html": [
       "<div>\n",
       "<table border=\"1\" class=\"dataframe\">\n",
       "  <thead>\n",
       "    <tr style=\"text-align: right;\">\n",
       "      <th></th>\n",
       "      <th>NPI</th>\n",
       "      <th>Gender</th>\n",
       "      <th>State</th>\n",
       "      <th>Credentials</th>\n",
       "      <th>Specialty</th>\n",
       "      <th>ABILIFY</th>\n",
       "      <th>ACETAMINOPHEN.CODEINE</th>\n",
       "      <th>ACYCLOVIR</th>\n",
       "      <th>ADVAIR.DISKUS</th>\n",
       "      <th>AGGRENOX</th>\n",
       "      <th>...</th>\n",
       "      <th>VESICARE</th>\n",
       "      <th>VOLTAREN</th>\n",
       "      <th>VYTORIN</th>\n",
       "      <th>WARFARIN.SODIUM</th>\n",
       "      <th>XARELTO</th>\n",
       "      <th>ZETIA</th>\n",
       "      <th>ZIPRASIDONE.HCL</th>\n",
       "      <th>ZOLPIDEM.TARTRATE</th>\n",
       "      <th>Opioid.Prescriber</th>\n",
       "      <th>total_prescribed</th>\n",
       "    </tr>\n",
       "  </thead>\n",
       "  <tbody>\n",
       "    <tr>\n",
       "      <th>16529</th>\n",
       "      <td>1194755983</td>\n",
       "      <td>M</td>\n",
       "      <td>NY</td>\n",
       "      <td>MD</td>\n",
       "      <td>Internal Medicine</td>\n",
       "      <td>0</td>\n",
       "      <td>0</td>\n",
       "      <td>16</td>\n",
       "      <td>49</td>\n",
       "      <td>0</td>\n",
       "      <td>...</td>\n",
       "      <td>35</td>\n",
       "      <td>59</td>\n",
       "      <td>21</td>\n",
       "      <td>122</td>\n",
       "      <td>12</td>\n",
       "      <td>249</td>\n",
       "      <td>0</td>\n",
       "      <td>166</td>\n",
       "      <td>1</td>\n",
       "      <td>10428</td>\n",
       "    </tr>\n",
       "  </tbody>\n",
       "</table>\n",
       "<p>1 rows × 257 columns</p>\n",
       "</div>"
      ],
      "text/plain": [
       "              NPI Gender State Credentials          Specialty  ABILIFY  \\\n",
       "16529  1194755983      M    NY          MD  Internal Medicine        0   \n",
       "\n",
       "       ACETAMINOPHEN.CODEINE  ACYCLOVIR  ADVAIR.DISKUS  AGGRENOX  \\\n",
       "16529                      0         16             49         0   \n",
       "\n",
       "             ...         VESICARE  VOLTAREN  VYTORIN  WARFARIN.SODIUM  \\\n",
       "16529        ...               35        59       21              122   \n",
       "\n",
       "       XARELTO  ZETIA  ZIPRASIDONE.HCL  ZOLPIDEM.TARTRATE  Opioid.Prescriber  \\\n",
       "16529       12    249                0                166                  1   \n",
       "\n",
       "       total_prescribed  \n",
       "16529             10428  \n",
       "\n",
       "[1 rows x 257 columns]"
      ]
     },
     "execution_count": 38,
     "metadata": {},
     "output_type": "execute_result"
    }
   ],
   "source": [
    "doctor[doctor['total_prescribed'] == 10428]"
   ]
  },
  {
   "cell_type": "code",
   "execution_count": 40,
   "metadata": {
    "collapsed": false
   },
   "outputs": [
    {
     "data": {
      "text/plain": [
       "ABILIFY                             0\n",
       "ACETAMINOPHEN.CODEINE               0\n",
       "ACYCLOVIR                          16\n",
       "ADVAIR.DISKUS                      49\n",
       "AGGRENOX                            0\n",
       "ALENDRONATE.SODIUM                110\n",
       "ALLOPURINOL                        92\n",
       "ALPRAZOLAM                          0\n",
       "AMIODARONE.HCL                     25\n",
       "AMITRIPTYLINE.HCL                  16\n",
       "AMLODIPINE.BESYLATE               635\n",
       "AMLODIPINE.BESYLATE.BENAZEPRIL    124\n",
       "AMOXICILLIN                         0\n",
       "AMOX.TR.POTASSIUM.CLAVULANATE      43\n",
       "AMPHETAMINE.SALT.COMBO              0\n",
       "ATENOLOL                          121\n",
       "ATORVASTATIN.CALCIUM              354\n",
       "AVODART                            57\n",
       "AZITHROMYCIN                       31\n",
       "BACLOFEN                            0\n",
       "BD.ULTRA.FINE.PEN.NEEDLE            0\n",
       "BENAZEPRIL.HCL                     83\n",
       "BENICAR                            40\n",
       "BENICAR.HCT                        85\n",
       "BENZTROPINE.MESYLATE                0\n",
       "BISOPROLOL.HYDROCHLOROTHIAZIDE      0\n",
       "BRIMONIDINE.TARTRATE                0\n",
       "BUMETANIDE                          0\n",
       "BUPROPION.HCL.SR                    0\n",
       "BUPROPION.XL                        0\n",
       "                                 ... \n",
       "SYNTHROID                         188\n",
       "TAMSULOSIN.HCL                    232\n",
       "TEMAZEPAM                           0\n",
       "TERAZOSIN.HCL                      12\n",
       "TIMOLOL.MALEATE                    11\n",
       "TIZANIDINE.HCL                      0\n",
       "TOLTERODINE.TARTRATE.ER             0\n",
       "TOPIRAMATE                          0\n",
       "TOPROL.XL                           0\n",
       "TORSEMIDE                           0\n",
       "TRAMADOL.HCL                       36\n",
       "TRAVATAN.Z                          0\n",
       "TRAZODONE.HCL                       0\n",
       "TRIAMCINOLONE.ACETONIDE            25\n",
       "TRIAMTERENE.HYDROCHLOROTHIAZID      0\n",
       "VALACYCLOVIR                        0\n",
       "VALSARTAN                          13\n",
       "VALSARTAN.HYDROCHLOROTHIAZIDE      67\n",
       "VENLAFAXINE.HCL                     0\n",
       "VENLAFAXINE.HCL.ER                 35\n",
       "VENTOLIN.HFA                        0\n",
       "VERAPAMIL.ER                       14\n",
       "VESICARE                           35\n",
       "VOLTAREN                           59\n",
       "VYTORIN                            21\n",
       "WARFARIN.SODIUM                   122\n",
       "XARELTO                            12\n",
       "ZETIA                             249\n",
       "ZIPRASIDONE.HCL                     0\n",
       "ZOLPIDEM.TARTRATE                 166\n",
       "Name: 16529, dtype: object"
      ]
     },
     "execution_count": 40,
     "metadata": {},
     "output_type": "execute_result"
    }
   ],
   "source": [
    "doctor.ix[16529,cols_to_sum]"
   ]
  },
  {
   "cell_type": "code",
   "execution_count": 65,
   "metadata": {
    "collapsed": false
   },
   "outputs": [
    {
     "data": {
      "text/html": [
       "<div>\n",
       "<table border=\"1\" class=\"dataframe\">\n",
       "  <thead>\n",
       "    <tr style=\"text-align: right;\">\n",
       "      <th></th>\n",
       "      <th>NPI</th>\n",
       "      <th>Gender</th>\n",
       "      <th>State</th>\n",
       "      <th>Credentials</th>\n",
       "      <th>Specialty</th>\n",
       "      <th>ABILIFY</th>\n",
       "      <th>ACETAMINOPHEN.CODEINE</th>\n",
       "      <th>ACYCLOVIR</th>\n",
       "      <th>ADVAIR.DISKUS</th>\n",
       "      <th>AGGRENOX</th>\n",
       "      <th>...</th>\n",
       "      <th>VESICARE</th>\n",
       "      <th>VOLTAREN</th>\n",
       "      <th>VYTORIN</th>\n",
       "      <th>WARFARIN.SODIUM</th>\n",
       "      <th>XARELTO</th>\n",
       "      <th>ZETIA</th>\n",
       "      <th>ZIPRASIDONE.HCL</th>\n",
       "      <th>ZOLPIDEM.TARTRATE</th>\n",
       "      <th>Opioid.Prescriber</th>\n",
       "      <th>total_prescribed</th>\n",
       "    </tr>\n",
       "  </thead>\n",
       "  <tbody>\n",
       "    <tr>\n",
       "      <th>0</th>\n",
       "      <td>1710982582</td>\n",
       "      <td>M</td>\n",
       "      <td>TX</td>\n",
       "      <td>DDS</td>\n",
       "      <td>Dentist</td>\n",
       "      <td>0</td>\n",
       "      <td>0</td>\n",
       "      <td>0</td>\n",
       "      <td>0</td>\n",
       "      <td>0</td>\n",
       "      <td>...</td>\n",
       "      <td>0</td>\n",
       "      <td>0</td>\n",
       "      <td>0</td>\n",
       "      <td>0</td>\n",
       "      <td>0</td>\n",
       "      <td>0</td>\n",
       "      <td>0</td>\n",
       "      <td>0</td>\n",
       "      <td>1</td>\n",
       "      <td>NaN</td>\n",
       "    </tr>\n",
       "    <tr>\n",
       "      <th>1</th>\n",
       "      <td>1245278100</td>\n",
       "      <td>F</td>\n",
       "      <td>AL</td>\n",
       "      <td>MD</td>\n",
       "      <td>General Surgery</td>\n",
       "      <td>0</td>\n",
       "      <td>0</td>\n",
       "      <td>0</td>\n",
       "      <td>0</td>\n",
       "      <td>0</td>\n",
       "      <td>...</td>\n",
       "      <td>0</td>\n",
       "      <td>0</td>\n",
       "      <td>0</td>\n",
       "      <td>0</td>\n",
       "      <td>0</td>\n",
       "      <td>0</td>\n",
       "      <td>0</td>\n",
       "      <td>35</td>\n",
       "      <td>1</td>\n",
       "      <td>NaN</td>\n",
       "    </tr>\n",
       "    <tr>\n",
       "      <th>2</th>\n",
       "      <td>1427182161</td>\n",
       "      <td>F</td>\n",
       "      <td>NY</td>\n",
       "      <td>M.D.</td>\n",
       "      <td>General Practice</td>\n",
       "      <td>0</td>\n",
       "      <td>0</td>\n",
       "      <td>0</td>\n",
       "      <td>0</td>\n",
       "      <td>0</td>\n",
       "      <td>...</td>\n",
       "      <td>0</td>\n",
       "      <td>0</td>\n",
       "      <td>0</td>\n",
       "      <td>0</td>\n",
       "      <td>0</td>\n",
       "      <td>0</td>\n",
       "      <td>0</td>\n",
       "      <td>25</td>\n",
       "      <td>0</td>\n",
       "      <td>NaN</td>\n",
       "    </tr>\n",
       "    <tr>\n",
       "      <th>3</th>\n",
       "      <td>1669567541</td>\n",
       "      <td>M</td>\n",
       "      <td>AZ</td>\n",
       "      <td>MD</td>\n",
       "      <td>Internal Medicine</td>\n",
       "      <td>0</td>\n",
       "      <td>43</td>\n",
       "      <td>0</td>\n",
       "      <td>0</td>\n",
       "      <td>0</td>\n",
       "      <td>...</td>\n",
       "      <td>0</td>\n",
       "      <td>0</td>\n",
       "      <td>0</td>\n",
       "      <td>0</td>\n",
       "      <td>0</td>\n",
       "      <td>0</td>\n",
       "      <td>0</td>\n",
       "      <td>0</td>\n",
       "      <td>1</td>\n",
       "      <td>NaN</td>\n",
       "    </tr>\n",
       "    <tr>\n",
       "      <th>4</th>\n",
       "      <td>1679650949</td>\n",
       "      <td>M</td>\n",
       "      <td>NV</td>\n",
       "      <td>M.D.</td>\n",
       "      <td>Hematology/Oncology</td>\n",
       "      <td>0</td>\n",
       "      <td>0</td>\n",
       "      <td>0</td>\n",
       "      <td>0</td>\n",
       "      <td>0</td>\n",
       "      <td>...</td>\n",
       "      <td>0</td>\n",
       "      <td>0</td>\n",
       "      <td>0</td>\n",
       "      <td>17</td>\n",
       "      <td>28</td>\n",
       "      <td>0</td>\n",
       "      <td>0</td>\n",
       "      <td>0</td>\n",
       "      <td>1</td>\n",
       "      <td>NaN</td>\n",
       "    </tr>\n",
       "  </tbody>\n",
       "</table>\n",
       "<p>5 rows × 257 columns</p>\n",
       "</div>"
      ],
      "text/plain": [
       "          NPI Gender State Credentials            Specialty  ABILIFY  \\\n",
       "0  1710982582      M    TX         DDS              Dentist        0   \n",
       "1  1245278100      F    AL          MD      General Surgery        0   \n",
       "2  1427182161      F    NY        M.D.     General Practice        0   \n",
       "3  1669567541      M    AZ          MD    Internal Medicine        0   \n",
       "4  1679650949      M    NV        M.D.  Hematology/Oncology        0   \n",
       "\n",
       "   ACETAMINOPHEN.CODEINE  ACYCLOVIR  ADVAIR.DISKUS  AGGRENOX  \\\n",
       "0                      0          0              0         0   \n",
       "1                      0          0              0         0   \n",
       "2                      0          0              0         0   \n",
       "3                     43          0              0         0   \n",
       "4                      0          0              0         0   \n",
       "\n",
       "         ...         VESICARE  VOLTAREN  VYTORIN  WARFARIN.SODIUM  XARELTO  \\\n",
       "0        ...                0         0        0                0        0   \n",
       "1        ...                0         0        0                0        0   \n",
       "2        ...                0         0        0                0        0   \n",
       "3        ...                0         0        0                0        0   \n",
       "4        ...                0         0        0               17       28   \n",
       "\n",
       "   ZETIA  ZIPRASIDONE.HCL  ZOLPIDEM.TARTRATE  Opioid.Prescriber  \\\n",
       "0      0                0                  0                  1   \n",
       "1      0                0                 35                  1   \n",
       "2      0                0                 25                  0   \n",
       "3      0                0                  0                  1   \n",
       "4      0                0                  0                  1   \n",
       "\n",
       "   total_prescribed  \n",
       "0               NaN  \n",
       "1               NaN  \n",
       "2               NaN  \n",
       "3               NaN  \n",
       "4               NaN  \n",
       "\n",
       "[5 rows x 257 columns]"
      ]
     },
     "execution_count": 65,
     "metadata": {},
     "output_type": "execute_result"
    }
   ],
   "source": [
    "doctor.head()"
   ]
  },
  {
   "cell_type": "code",
   "execution_count": 41,
   "metadata": {
    "collapsed": false
   },
   "outputs": [
    {
     "data": {
      "text/plain": [
       "1    14688\n",
       "0    10312\n",
       "Name: Opioid.Prescriber, dtype: int64"
      ]
     },
     "execution_count": 41,
     "metadata": {},
     "output_type": "execute_result"
    }
   ],
   "source": [
    "doctor[\"Opioid.Prescriber\"].value_counts()"
   ]
  },
  {
   "cell_type": "code",
   "execution_count": 51,
   "metadata": {
    "collapsed": false
   },
   "outputs": [],
   "source": [
    "num_prescribers_per_state = pd.DataFrame(doctor[doctor[\"Opioid.Prescriber\"] == 1].State.value_counts())"
   ]
  },
  {
   "cell_type": "code",
   "execution_count": 52,
   "metadata": {
    "collapsed": false
   },
   "outputs": [
    {
     "data": {
      "text/html": [
       "<div>\n",
       "<table border=\"1\" class=\"dataframe\">\n",
       "  <thead>\n",
       "    <tr style=\"text-align: right;\">\n",
       "      <th></th>\n",
       "      <th>State</th>\n",
       "    </tr>\n",
       "  </thead>\n",
       "  <tbody>\n",
       "    <tr>\n",
       "      <th>CA</th>\n",
       "      <td>1462</td>\n",
       "    </tr>\n",
       "    <tr>\n",
       "      <th>TX</th>\n",
       "      <td>949</td>\n",
       "    </tr>\n",
       "    <tr>\n",
       "      <th>FL</th>\n",
       "      <td>875</td>\n",
       "    </tr>\n",
       "    <tr>\n",
       "      <th>NY</th>\n",
       "      <td>875</td>\n",
       "    </tr>\n",
       "    <tr>\n",
       "      <th>PA</th>\n",
       "      <td>679</td>\n",
       "    </tr>\n",
       "  </tbody>\n",
       "</table>\n",
       "</div>"
      ],
      "text/plain": [
       "    State\n",
       "CA   1462\n",
       "TX    949\n",
       "FL    875\n",
       "NY    875\n",
       "PA    679"
      ]
     },
     "execution_count": 52,
     "metadata": {},
     "output_type": "execute_result"
    }
   ],
   "source": [
    "num_prescribers_per_state.head()"
   ]
  },
  {
   "cell_type": "code",
   "execution_count": 55,
   "metadata": {
    "collapsed": false
   },
   "outputs": [],
   "source": [
    "num_prescribers_per_state['State_Abv'] = num_prescribers_per_state.index "
   ]
  },
  {
   "cell_type": "code",
   "execution_count": 61,
   "metadata": {
    "collapsed": false
   },
   "outputs": [],
   "source": [
    "num_prescribers_per_state.columns = ['Number of Opioid Prescribers','Abbrev']"
   ]
  },
  {
   "cell_type": "code",
   "execution_count": 62,
   "metadata": {
    "collapsed": false
   },
   "outputs": [
    {
     "data": {
      "text/html": [
       "<div>\n",
       "<table border=\"1\" class=\"dataframe\">\n",
       "  <thead>\n",
       "    <tr style=\"text-align: right;\">\n",
       "      <th></th>\n",
       "      <th>Number of Opioid Prescribers</th>\n",
       "      <th>Abbrev</th>\n",
       "    </tr>\n",
       "  </thead>\n",
       "  <tbody>\n",
       "    <tr>\n",
       "      <th>CA</th>\n",
       "      <td>1462</td>\n",
       "      <td>CA</td>\n",
       "    </tr>\n",
       "    <tr>\n",
       "      <th>TX</th>\n",
       "      <td>949</td>\n",
       "      <td>TX</td>\n",
       "    </tr>\n",
       "  </tbody>\n",
       "</table>\n",
       "</div>"
      ],
      "text/plain": [
       "    Number of Opioid Prescribers Abbrev\n",
       "CA                          1462     CA\n",
       "TX                           949     TX"
      ]
     },
     "execution_count": 62,
     "metadata": {},
     "output_type": "execute_result"
    }
   ],
   "source": [
    "num_prescribers_per_state.head(2)"
   ]
  },
  {
   "cell_type": "code",
   "execution_count": null,
   "metadata": {
    "collapsed": true
   },
   "outputs": [],
   "source": []
  },
  {
   "cell_type": "code",
   "execution_count": 60,
   "metadata": {
    "collapsed": false
   },
   "outputs": [
    {
     "data": {
      "text/html": [
       "<div>\n",
       "<table border=\"1\" class=\"dataframe\">\n",
       "  <thead>\n",
       "    <tr style=\"text-align: right;\">\n",
       "      <th></th>\n",
       "      <th>State</th>\n",
       "      <th>Population</th>\n",
       "      <th>Deaths</th>\n",
       "      <th>Abbrev</th>\n",
       "      <th>Ratio</th>\n",
       "    </tr>\n",
       "  </thead>\n",
       "  <tbody>\n",
       "    <tr>\n",
       "      <th>0</th>\n",
       "      <td>Alabama</td>\n",
       "      <td>4833722.0</td>\n",
       "      <td>723.0</td>\n",
       "      <td>AL</td>\n",
       "      <td>0.00015</td>\n",
       "    </tr>\n",
       "  </tbody>\n",
       "</table>\n",
       "</div>"
      ],
      "text/plain": [
       "     State  Population  Deaths Abbrev    Ratio\n",
       "0  Alabama   4833722.0   723.0     AL  0.00015"
      ]
     },
     "execution_count": 60,
     "metadata": {},
     "output_type": "execute_result"
    }
   ],
   "source": [
    "overdose.head(1)"
   ]
  },
  {
   "cell_type": "code",
   "execution_count": 64,
   "metadata": {
    "collapsed": false
   },
   "outputs": [],
   "source": [
    "rel = pd.merge(overdose,num_prescribers_per_state,on='Abbrev')"
   ]
  },
  {
   "cell_type": "code",
   "execution_count": 70,
   "metadata": {
    "collapsed": false
   },
   "outputs": [],
   "source": [
    "rel[\"Number of Opioid Prescribers\"] = rel[\"Number of Opioid Prescribers\"].apply(float)"
   ]
  },
  {
   "cell_type": "code",
   "execution_count": 71,
   "metadata": {
    "collapsed": false
   },
   "outputs": [
    {
     "data": {
      "text/html": [
       "<div>\n",
       "<table border=\"1\" class=\"dataframe\">\n",
       "  <thead>\n",
       "    <tr style=\"text-align: right;\">\n",
       "      <th></th>\n",
       "      <th>State</th>\n",
       "      <th>Population</th>\n",
       "      <th>Deaths</th>\n",
       "      <th>Abbrev</th>\n",
       "      <th>Ratio</th>\n",
       "      <th>Number of Opioid Prescribers</th>\n",
       "    </tr>\n",
       "  </thead>\n",
       "  <tbody>\n",
       "    <tr>\n",
       "      <th>0</th>\n",
       "      <td>Alabama</td>\n",
       "      <td>4833722.0</td>\n",
       "      <td>723.0</td>\n",
       "      <td>AL</td>\n",
       "      <td>0.000150</td>\n",
       "      <td>244.0</td>\n",
       "    </tr>\n",
       "    <tr>\n",
       "      <th>1</th>\n",
       "      <td>Alaska</td>\n",
       "      <td>735132.0</td>\n",
       "      <td>124.0</td>\n",
       "      <td>AK</td>\n",
       "      <td>0.000169</td>\n",
       "      <td>27.0</td>\n",
       "    </tr>\n",
       "  </tbody>\n",
       "</table>\n",
       "</div>"
      ],
      "text/plain": [
       "     State  Population  Deaths Abbrev     Ratio  Number of Opioid Prescribers\n",
       "0  Alabama   4833722.0   723.0     AL  0.000150                         244.0\n",
       "1   Alaska    735132.0   124.0     AK  0.000169                          27.0"
      ]
     },
     "execution_count": 71,
     "metadata": {},
     "output_type": "execute_result"
    }
   ],
   "source": [
    "rel.head(2)"
   ]
  },
  {
   "cell_type": "code",
   "execution_count": 80,
   "metadata": {
    "collapsed": false
   },
   "outputs": [
    {
     "data": {
      "text/plain": [
       "<matplotlib.axes._subplots.AxesSubplot at 0x11bc831d0>"
      ]
     },
     "execution_count": 80,
     "metadata": {},
     "output_type": "execute_result"
    },
    {
     "data": {
      "image/png": "[encoded data removed]",
      "text/plain": [
       "<matplotlib.figure.Figure at 0x11c67d550>"
      ]
     },
     "metadata": {},
     "output_type": "display_data"
    }
   ],
   "source": [
    "sns.regplot(x='Number of Opioid Prescribers',y='Deaths',data=rel)"
   ]
  },
  {
   "cell_type": "code",
   "execution_count": 81,
   "metadata": {
    "collapsed": false
   },
   "outputs": [
    {
     "data": {
      "text/plain": [
       "<matplotlib.axes._subplots.AxesSubplot at 0x11c7038d0>"
      ]
     },
     "execution_count": 81,
     "metadata": {},
     "output_type": "execute_result"
    },
    {
     "data": {
      "image/png": "[encoded data removed]",
      "text/plain": [
       "<matplotlib.figure.Figure at 0x11c72d810>"
      ]
     },
     "metadata": {},
     "output_type": "display_data"
    }
   ],
   "source": [
    "sns.regplot(x='Number of Opioid Prescribers',y='Ratio',data=rel)"
   ]
  },
  {
   "cell_type": "code",
   "execution_count": 76,
   "metadata": {
    "collapsed": false
   },
   "outputs": [
    {
     "data": {
      "text/plain": [
       "<matplotlib.axes._subplots.AxesSubplot at 0x11bcd16d0>"
      ]
     },
     "execution_count": 76,
     "metadata": {},
     "output_type": "execute_result"
    },
    {
     "data": {
      "image/png": "[encoded data removed]",
      "text/plain": [
       "<matplotlib.figure.Figure at 0x11bce6410>"
      ]
     },
     "metadata": {},
     "output_type": "display_data"
    }
   ],
   "source": [
    "sns.regplot(x='Population',y='Ratio',data=rel)  #Ratio means ratio of people ODing to overall state population"
   ]
  },
  {
   "cell_type": "code",
   "execution_count": 40,
   "metadata": {
    "collapsed": false
   },
   "outputs": [
    {
     "data": {
      "text/plain": [
       "Family Practice                                                   2635\n",
       "Internal Medicine                                                 2426\n",
       "Nurse Practitioner                                                1350\n",
       "Physician Assistant                                               1262\n",
       "Dentist                                                           1058\n",
       "Emergency Medicine                                                1045\n",
       "Orthopedic Surgery                                                 567\n",
       "General Surgery                                                    442\n",
       "Urology                                                            259\n",
       "Student in an Organized Health Care Education/Training Program     245\n",
       "Podiatry                                                           224\n",
       "Hematology/Oncology                                                200\n",
       "Neurology                                                          196\n",
       "General Practice                                                   186\n",
       "Physical Medicine and Rehabilitation                               182\n",
       "Otolaryngology                                                     165\n",
       "Cardiology                                                         162\n",
       "Obstetrics/Gynecology                                              144\n",
       "Nephrology                                                         134\n",
       "Oral Surgery (dentists only)                                       127\n",
       "Rheumatology                                                       121\n",
       "Gastroenterology                                                   115\n",
       "Anesthesiology                                                      93\n",
       "Plastic and Reconstructive Surgery                                  86\n",
       "Pulmonary Disease                                                   78\n",
       "Psychiatry                                                          78\n",
       "Medical Oncology                                                    78\n",
       "Neurosurgery                                                        74\n",
       "Radiation Oncology                                                  67\n",
       "Ophthalmology                                                       66\n",
       "                                                                  ... \n",
       "Neuropsychiatry                                                      4\n",
       "Surgery                                                              4\n",
       "Clinic/Center                                                        4\n",
       "Unknown Physician Specialty Code                                     4\n",
       "Optometry                                                            3\n",
       "Neuromusculoskeletal Medicine, Sports Medicine                       3\n",
       "Psychologist (billing independently)                                 3\n",
       "Neurological Surgery                                                 3\n",
       "Interventional Radiology                                             3\n",
       "Pathology                                                            3\n",
       "Legal Medicine                                                       3\n",
       "Licensed Practical Nurse                                             2\n",
       "Preferred Provider Organization                                      2\n",
       "Nuclear Medicine                                                     2\n",
       "Multispecialty Clinic/Group Practice                                 2\n",
       "Naturopath                                                           2\n",
       "Addiction Medicine                                                   2\n",
       "Health Maintenance Organization                                      1\n",
       "General Acute Care Hospital                                          1\n",
       "CRNA                                                                 1\n",
       "Rehabilitation Agency                                                1\n",
       "Clinical Pharmacology                                                1\n",
       "Unknown Supplier/Provider                                            1\n",
       "Community Health Worker                                              1\n",
       "Sleep Medicine                                                       1\n",
       "Colon & Rectal Surgery                                               1\n",
       "Psychologist                                                         1\n",
       "Certified Nurse Midwife                                              1\n",
       "Geriatric Psychiatry                                                 1\n",
       "Personal Emergency Response Attendant                                1\n",
       "Name: Specialty, dtype: int64"
      ]
     },
     "execution_count": 40,
     "metadata": {},
     "output_type": "execute_result"
    }
   ],
   "source": [
    "doctor[doctor[\"Opioid.Prescriber\"] == 1].Specialty.value_counts()"
   ]
  },
  {
   "cell_type": "code",
   "execution_count": 41,
   "metadata": {
    "collapsed": false
   },
   "outputs": [
    {
     "data": {
      "text/plain": [
       "Internal Medicine                                                 3194\n",
       "Family Practice                                                   2975\n",
       "Dentist                                                           2800\n",
       "Nurse Practitioner                                                2512\n",
       "Physician Assistant                                               1839\n",
       "Emergency Medicine                                                1087\n",
       "Psychiatry                                                         691\n",
       "Cardiology                                                         688\n",
       "Obstetrics/Gynecology                                              615\n",
       "Orthopedic Surgery                                                 575\n",
       "Optometry                                                          571\n",
       "Student in an Organized Health Care Education/Training Program     547\n",
       "Ophthalmology                                                      519\n",
       "General Surgery                                                    487\n",
       "Gastroenterology                                                   399\n",
       "Neurology                                                          371\n",
       "Podiatry                                                           369\n",
       "Dermatology                                                        344\n",
       "Urology                                                            328\n",
       "Psychiatry & Neurology                                             266\n",
       "Pulmonary Disease                                                  262\n",
       "Otolaryngology                                                     260\n",
       "General Practice                                                   247\n",
       "Nephrology                                                         236\n",
       "Hematology/Oncology                                                218\n",
       "Physical Medicine and Rehabilitation                               200\n",
       "Endocrinology                                                      153\n",
       "Pediatric Medicine                                                 145\n",
       "Oral Surgery (dentists only)                                       140\n",
       "Anesthesiology                                                     138\n",
       "                                                                  ... \n",
       "Neuromusculoskeletal Medicine, Sports Medicine                       4\n",
       "Geriatric Psychiatry                                                 4\n",
       "Unknown Physician Specialty Code                                     4\n",
       "Nuclear Medicine                                                     4\n",
       "Psychologist (billing independently)                                 4\n",
       "Colon & Rectal Surgery                                               3\n",
       "Addiction Medicine                                                   3\n",
       "Multispecialty Clinic/Group Practice                                 3\n",
       "Hospital (Dmercs Only)                                               3\n",
       "Licensed Practical Nurse                                             3\n",
       "Medical Genetics, Ph.D. Medical Genetics                             3\n",
       "Psychologist                                                         2\n",
       "Rehabilitation Agency                                                2\n",
       "Specialist/Technologist                                              2\n",
       "Preferred Provider Organization                                      2\n",
       "Homeopath                                                            2\n",
       "Thoracic Surgery (Cardiothoracic Vascular Surgery)                   2\n",
       "Personal Emergency Response Attendant                                2\n",
       "Chiropractic                                                         1\n",
       "Pharmacy Technician                                                  1\n",
       "Health Maintenance Organization                                      1\n",
       "Behavioral Analyst                                                   1\n",
       "Community Health Worker                                              1\n",
       "Licensed Clinical Social Worker                                      1\n",
       "Midwife                                                              1\n",
       "Clinical Pharmacology                                                1\n",
       "Military Health Care Provider                                        1\n",
       "Unknown Supplier/Provider                                            1\n",
       "Medical Genetics                                                     1\n",
       "Slide Preparation Facility                                           1\n",
       "Name: Specialty, dtype: int64"
      ]
     },
     "execution_count": 41,
     "metadata": {},
     "output_type": "execute_result"
    }
   ],
   "source": [
    "doctor.Specialty.value_counts()"
   ]
  },
  {
   "cell_type": "code",
   "execution_count": null,
   "metadata": {
    "collapsed": true
   },
   "outputs": [],
   "source": []
  }
 ],
 "metadata": {
  "anaconda-cloud": {},
  "kernelspec": {
   "display_name": "Python [default]",
   "language": "python",
   "name": "python2"
  },
  "language_info": {
   "codemirror_mode": {
    "name": "ipython",
    "version": 2
   },
   "file_extension": ".py",
   "mimetype": "text/x-python",
   "name": "python",
   "nbconvert_exporter": "python",
   "pygments_lexer": "ipython2",
   "version": "2.7.12"
  }
 },
 "nbformat": 4,
 "nbformat_minor": 1
}
